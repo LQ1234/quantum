{
 "cells": [
  {
   "cell_type": "code",
   "execution_count": 162,
   "metadata": {},
   "outputs": [],
   "source": [
    "# Imports and utility functions\n",
    "import sympy\n",
    "import numpy as np\n",
    "from sympy import nsolve, pi, E, log, S, latex, Float\n",
    "from sympy.abc import x\n",
    "from sympy.physics.units import percent, K, hbar, nm, V, eV, electron_rest_mass, meter, kg, second, K, boltzmann_constant, cm, planck, elementary_charge, coulomb, mm, um,ohm, A,us, ms, vacuum_permittivity\n",
    "from sympy.physics.units import convert_to\n",
    "from sympy import sin, cos, sqrt, sinh, cosh\n",
    "from sympy.plotting import plot\n",
    "from sympy import integrate\n",
    "\n",
    "from sympy.physics.units import Quantity\n",
    "from IPython.display import Markdown as md\n",
    "from matplotlib import pyplot as plt\n",
    "\n",
    "def latex_units(expr, units):\n",
    "    if units == 1:\n",
    "        return latex(Float(simplify(expr), 3))\n",
    "    return latex(Float(simplify(expr / units), 3)) + \" \" + latex(units)\n",
    "\n",
    "def unit(expr):\n",
    "    try:\n",
    "        return expr.as_coeff_Mul()[1]\n",
    "    except:\n",
    "        return 1\n",
    "\n",
    "def simplify(expr):\n",
    "    return convert_to(expr, [kg, meter, second, K, coulomb]).evalf(50)\n",
    "    \n",
    "def symbool(expr):\n",
    "    return bool(convert_to(expr, [kg, meter, second, K, coulomb]))\n",
    "def without_units(x_units, y_units):\n",
    "    def wrapper(f):\n",
    "        def f_(x):\n",
    "            return simplify(f(x * x_units) / y_units)\n",
    "        return f_\n",
    "    return wrapper\n",
    "\n",
    "def plot_this(x_min, x_max, y_units, num = 100):\n",
    "    def wrapper(f):\n",
    "        x_units = unit(x_min)\n",
    "        f_ = lambda x: simplify(f(x * x_units) / y_units)\n",
    "\n",
    "        x = np.linspace(float(x_min/x_units), float(x_max/x_units), num)\n",
    "        y = np.array([f_(x_) for x_ in x])\n",
    "\n",
    "        plt.plot(x, y)\n",
    "        print(latex(x_units))\n",
    "        plt.xlabel(f\"${latex(x_units).replace('//', '////')}$\")\n",
    "        plt.ylabel(latex(y_units))\n",
    "        return f\n",
    "    return wrapper"
   ]
  },
  {
   "cell_type": "code",
   "execution_count": 128,
   "metadata": {},
   "outputs": [],
   "source": [
    "# Problem 1\n",
    "def v_built_in(N_D, N_A, T):\n",
    "    thermal_voltage = boltzmann_constant * T / elementary_charge\n",
    "    return thermal_voltage * log(N_A * N_D / n_i_gaas**2)\n",
    "\n",
    "\n",
    "n_i_gaas = 1.79e6 / cm**3\n",
    "N_D = 10**16 / cm**3\n",
    "N_A = 4 * 10**16 / cm**3\n",
    "V_bi = v_built_in(N_D, N_A, 300 * K)\n",
    "    "
   ]
  },
  {
   "cell_type": "code",
   "execution_count": 129,
   "metadata": {},
   "outputs": [
    {
     "data": {
      "text/markdown": [
       "\n",
       "**Problem 1**\n",
       "| Applied voltage | Electron concentration in p-type | Hole concentration in n-type |\n",
       "| --- | --- | --- |\n",
       "| $0.9 \\text{V}$ | $1.05 \\cdot 10^{11} \\frac{1}{\\text{cm}^{3}}$ | $4.22 \\cdot 10^{11} \\frac{1}{\\text{cm}^{3}}$|\n",
       "| $1.1 \\text{V}$ | $2.41 \\cdot 10^{14} \\frac{1}{\\text{cm}^{3}}$ | $9.66 \\cdot 10^{14} \\frac{1}{\\text{cm}^{3}}$|\n",
       "| $-0.95 \\text{V}$ | $8.8 \\cdot 10^{-21} \\frac{1}{\\text{cm}^{3}}$ | $3.52 \\cdot 10^{-20} \\frac{1}{\\text{cm}^{3}}$|\n"
      ],
      "text/plain": [
       "<IPython.core.display.Markdown object>"
      ]
     },
     "metadata": {},
     "output_type": "display_data"
    }
   ],
   "source": [
    "def solve_problem (applied_voltage):\n",
    "    thermal_voltage = boltzmann_constant * 300 * K / elementary_charge\n",
    "    electrons_in_p = N_D * E**(-(V_bi-applied_voltage) / thermal_voltage)\n",
    "    holes_in_n = N_A * E**(-(V_bi- applied_voltage) / thermal_voltage)\n",
    "    return f\"| ${latex_units(applied_voltage, V)}$ | ${latex_units(electrons_in_p, 1 / cm**3)}$ | ${latex_units(holes_in_n, 1 / cm**3)}$|\"\n",
    "\n",
    "display(md(f\"\"\"\n",
    "**Problem 1**\n",
    "| Applied voltage | Electron concentration in p-type | Hole concentration in n-type |\n",
    "| --- | --- | --- |\n",
    "{solve_problem(0.9 * V)}\n",
    "{solve_problem(1.10 * V)}\n",
    "{solve_problem(-0.95 * V)}\n",
    "\"\"\"))"
   ]
  },
  {
   "cell_type": "code",
   "execution_count": 130,
   "metadata": {},
   "outputs": [],
   "source": [
    "# Problem 2\n",
    "\n",
    "T = 300 * K\n",
    "area = 10 ** -4 * cm**2\n",
    "# n region\n",
    "N_D = 10**17 / cm**3\n",
    "p_lifetime_n = 10**-7 * second\n",
    "n_mobility_n = 850 * cm**2 / (V * second)\n",
    "p_mobility_n = 320 * cm**2 / (V * second)\n",
    "\n",
    "# p region\n",
    "N_A = 5 * 10**15 / cm**3\n",
    "n_lifetime_p = 10**-6 * second\n",
    "n_mobility_p = 1250 * cm**2 / (V * second)\n",
    "p_mobility_p = 420 * cm**2 / (V * second)\n",
    "\n",
    "# si properties (https://www.pveducation.org/es/fotovoltaica/materials/general-properties-of-silicon)\n",
    "N_C = 3 * 10**19 / cm**3\n",
    "N_V = 1 * 10**19 / cm**3\n",
    "n_i_si = 1 * 10**10 / cm**3\n",
    "e_r = 11.7 # also K_s (relative permittivity)\n",
    "V_g = 1.1 * V\n",
    "\n",
    "m_e = 1.18 * electron_rest_mass\n",
    "m_h = 0.81 * electron_rest_mass\n"
   ]
  },
  {
   "cell_type": "code",
   "execution_count": 131,
   "metadata": {},
   "outputs": [],
   "source": [
    "def v_built_in(N_D, N_A, T):\n",
    "    thermal_voltage = boltzmann_constant * T / elementary_charge\n",
    "    return thermal_voltage * log(N_A * N_D / n_i_si**2)\n",
    "\n",
    "V_bi = v_built_in(N_D, N_A, T)\n",
    "\n",
    "permittivity_coeff = e_r*vacuum_permittivity/elementary_charge\n",
    "# length of depletion region in p region & n region\n",
    "x_n = simplify((2*permittivity_coeff*(N_A)/(N_D*(N_A+N_D))*V_bi)**(1/S(2)))\n",
    "x_p = simplify((2*permittivity_coeff*(N_D)/(N_A*(N_A+N_D))*V_bi)**(1/S(2)))\n",
    "\n",
    "def rel_v(x):\n",
    "    if symbool(x < -x_p):\n",
    "        return 0\n",
    "    elif symbool(-x_p <= x) and symbool(x < 0):\n",
    "        return N_A / (2*permittivity_coeff) * (x + x_p)**2\n",
    "    elif symbool(0 <= x) and symbool(x < x_n):\n",
    "        return V_bi - N_D / (2*permittivity_coeff) * (x_n - x)**2\n",
    "    else:\n",
    "        return V_bi\n",
    "\n",
    "# conduction band\n",
    "@without_units(um, V)\n",
    "def V_c(x):\n",
    "    return V_g - rel_v(x) \n",
    "\n",
    "# valence band\n",
    "@without_units(um, V)\n",
    "def V_v(x):\n",
    "    return -rel_v(x)\n",
    "\n",
    "# intrinsic fermi level\n",
    "@without_units(um, V)\n",
    "def E_F_i(x):\n",
    "    midgap = V_g/2 - rel_v(x) \n",
    "    return midgap - 3/4 * boltzmann_constant * T * log(m_e / m_h) / elementary_charge\n",
    "    \n",
    "\n",
    "# quasi fermi level for p-region\n",
    "E_F_p = -boltzmann_constant * T * log(N_A / N_V)\n",
    "\n",
    "# quasi fermi level for n-region\n",
    "E_F_n = boltzmann_constant * T * log(N_D / N_C)\n",
    "E_F_n += (V_g -V_bi) * elementary_charge # conduction band offset"
   ]
  },
  {
   "cell_type": "code",
   "execution_count": 132,
   "metadata": {},
   "outputs": [
    {
     "data": {
      "text/plain": [
       "Text(0, 0.5, '$voltage (V)$')"
      ]
     },
     "execution_count": 132,
     "metadata": {},
     "output_type": "execute_result"
    },
    {
     "data": {
      "image/png": "[encoded data removed]",
      "text/plain": [
       "<Figure size 640x480 with 1 Axes>"
      ]
     },
     "metadata": {},
     "output_type": "display_data"
    }
   ],
   "source": [
    "x_min = - 1 # um\n",
    "x_max = 1\n",
    "x = np.linspace(x_min , x_max, 100)\n",
    "y = np.array([V_c(x_) for x_ in x])\n",
    "\n",
    "plt.plot(x, y)\n",
    "\n",
    "y = np.array([V_v(x_) for x_ in x])\n",
    "\n",
    "plt.plot(x, y)\n",
    "\n",
    "y = np.array([E_F_i(x_) for x_ in x])\n",
    "\n",
    "plt.plot(x, y)\n",
    "\n",
    "# draw fermi levels\n",
    "plt.plot([x_min, 0], [simplify(E_F_p/eV), simplify(E_F_p/eV)], 'r--')\n",
    "plt.plot([0, x_max], [simplify(E_F_n/eV), simplify(E_F_n/eV)], 'r--')\n",
    "\n",
    "plt.xlabel(\"$x (um)$\")\n",
    "plt.ylabel(\"$voltage (V)$\")\n",
    "\n"
   ]
  },
  {
   "cell_type": "code",
   "execution_count": 153,
   "metadata": {},
   "outputs": [],
   "source": [
    "p_D_n = boltzmann_constant * T / (elementary_charge) * p_mobility_n\n",
    "p_length_n = sqrt(p_D_n*p_lifetime_n)\n",
    "\n",
    "n_D_p = boltzmann_constant * T / (elementary_charge) * n_mobility_p\n",
    "n_length_p = sqrt(n_D_p*n_lifetime_p)\n",
    "\n",
    "p_leakage_density_n = elementary_charge * (p_D_n/p_length_n) * n_i_si ** 2 / N_D\n",
    "n_leakage_density_p = elementary_charge * (n_D_p/n_length_p) * n_i_si ** 2 / N_A\n",
    "leakage_current = area * (p_leakage_density_n + n_leakage_density_p)\n",
    "\n",
    "current_0_5V = leakage_current * (E ** (elementary_charge * 0.5 * V/(boltzmann_constant * 300 * K)) - 1)\n"
   ]
  },
  {
   "cell_type": "code",
   "execution_count": 168,
   "metadata": {},
   "outputs": [
    {
     "data": {
      "text/markdown": [
       "\n",
       "2.b. \n",
       "\n",
       "Leakage current:\n",
       "$1.97 \\cdot 10^{-15} \\text{A}$\n",
       "\n",
       "Current at 0.5V:\n",
       "$4.94 \\cdot 10^{-7} \\text{A}$\n",
       "\n",
       "2.c. \n",
       "Assuming no R/G in depletion region so current constant across it:\n",
       "\n",
       "$7.41$%\n"
      ],
      "text/plain": [
       "<IPython.core.display.Markdown object>"
      ]
     },
     "metadata": {},
     "output_type": "display_data"
    }
   ],
   "source": [
    "display(md(f\"\"\"\n",
    "2.b. \n",
    "\n",
    "Leakage current:\n",
    "${latex_units(leakage_current, A)}$\n",
    "\n",
    "Current at 0.5V:\n",
    "${latex_units(current_0_5V, A)}$\n",
    "\n",
    "2.c. \n",
    "Assuming no R/G in depletion region so current constant across it:\n",
    "\n",
    "${latex_units(100*p_leakage_density_n/(p_leakage_density_n+n_leakage_density_p),1)}$%\n",
    "\"\"\"))"
   ]
  }
 ],
 "metadata": {
  "kernelspec": {
   "display_name": "Python 3",
   "language": "python",
   "name": "python3"
  },
  "language_info": {
   "codemirror_mode": {
    "name": "ipython",
    "version": 3
   },
   "file_extension": ".py",
   "mimetype": "text/x-python",
   "name": "python",
   "nbconvert_exporter": "python",
   "pygments_lexer": "ipython3",
   "version": "3.10.12"
  },
  "orig_nbformat": 4
 },
 "nbformat": 4,
 "nbformat_minor": 2
}
