{
 "cells": [
  {
   "cell_type": "code",
   "execution_count": 1,
   "metadata": {},
   "outputs": [],
   "source": [
    "# Imports and utility functions\n",
    "import sympy\n",
    "import numpy as np\n",
    "from sympy import nsolve, pi, E, log, S, latex, Float, I\n",
    "from sympy.abc import x\n",
    "from sympy.physics.units import percent, K, hbar, nm, V, eV, electron_rest_mass, meter, kg, second, K, boltzmann_constant, cm, planck, elementary_charge, coulomb, mm, um,ohm, A,us, ms, vacuum_permittivity, farad, ns\n",
    "from sympy.physics.units import convert_to\n",
    "from sympy import sin, cos, sqrt, sinh, cosh\n",
    "from sympy.plotting import plot\n",
    "from sympy import integrate\n",
    "\n",
    "from sympy.physics.units import Quantity\n",
    "from IPython.display import Markdown as md\n",
    "from matplotlib import pyplot as plt\n",
    "\n",
    "def latex_units(expr, units):\n",
    "    if units == 1:\n",
    "        return latex(Float(simplify(expr), 3))\n",
    "    return latex(Float(simplify(expr / units), 3)) + \" \" + latex(units)\n",
    "\n",
    "def unit(expr):\n",
    "    try:\n",
    "        return expr.as_coeff_Mul()[1]\n",
    "    except:\n",
    "        return 1\n",
    "\n",
    "def simplify(expr):\n",
    "    return convert_to(expr, [kg, meter, second, K, coulomb]).evalf(50)\n",
    "    \n",
    "def symbool(expr):\n",
    "    return bool(convert_to(expr, [kg, meter, second, K, coulomb]))\n",
    "def without_units(x_units, y_units):\n",
    "    def wrapper(f):\n",
    "        def f_(x):\n",
    "            return simplify(f(x * x_units) / y_units)\n",
    "        return f_\n",
    "    return wrapper\n",
    "\n",
    "def plot_this(x_min, x_max, y_units, num = 100):\n",
    "    def wrapper(f):\n",
    "        x_units = unit(x_min)\n",
    "        f_ = lambda x: simplify(f(x * x_units) / y_units)\n",
    "\n",
    "        x = np.linspace(float(x_min/x_units), float(x_max/x_units), num)\n",
    "        y = np.array([f_(x_) for x_ in x])\n",
    "\n",
    "        plt.plot(x, y)\n",
    "\n",
    "        plt.xlabel(f\"${latex(x_units).replace('//', '////')}$\")\n",
    "        plt.ylabel(latex(y_units))\n",
    "        return f\n",
    "    return wrapper"
   ]
  },
  {
   "cell_type": "code",
   "execution_count": 9,
   "metadata": {},
   "outputs": [
    {
     "data": {
      "text/markdown": [
       "$\\beta_{original}$ = 200.0, $\\beta_{contaminated}$ = 1.12"
      ],
      "text/plain": [
       "<IPython.core.display.Markdown object>"
      ]
     },
     "metadata": {},
     "output_type": "display_data"
    }
   ],
   "source": [
    "# Problem 1\n",
    "W = 1.5 * um\n",
    "L_B = 400 * um\n",
    "gamma_normal = 0.995\n",
    "\n",
    "# Pierret 11.41 - 11.44\n",
    "alpha_T_normal = 1 / (1 + 1/2 * (W / L_B) ** 2)\n",
    "\n",
    "alpha_normal = gamma_normal * alpha_T_normal\n",
    "beta_normal = 1 / (1 - alpha_normal)\n",
    "\n",
    "tau_factor = 1 / 1600\n",
    "L_factor = sqrt(tau_factor) # L = sqrt(Dt) \n",
    "\n",
    "D_N_W_L_normal = 1 / gamma_normal - 1\n",
    "D_N_W_L_adjusted = D_N_W_L_normal / tau_factor\n",
    "gamma_adjusted = 1 / (1 + D_N_W_L_adjusted)\n",
    "\n",
    "alpha_T_adjusted = 1 / (1 + 1/2 * (W / (L_B * L_factor)) ** 2)\n",
    "alpha_adjusted = gamma_adjusted * alpha_T_adjusted\n",
    "beta_adjusted = 1 / (1 - alpha_adjusted)\n",
    "\n",
    "display(md(f\"$\\\\beta_{{original}}$ = {latex_units(beta_normal, 1)}, $\\\\beta_{{contaminated}}$ = {latex_units(beta_adjusted, 1)}\"))"
   ]
  }
 ],
 "metadata": {
  "kernelspec": {
   "display_name": "Python 3",
   "language": "python",
   "name": "python3"
  },
  "language_info": {
   "codemirror_mode": {
    "name": "ipython",
    "version": 3
   },
   "file_extension": ".py",
   "mimetype": "text/x-python",
   "name": "python",
   "nbconvert_exporter": "python",
   "pygments_lexer": "ipython3",
   "version": "3.10.12"
  },
  "orig_nbformat": 4
 },
 "nbformat": 4,
 "nbformat_minor": 2
}
