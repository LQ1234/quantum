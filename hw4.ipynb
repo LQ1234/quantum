{
 "cells": [
  {
   "attachments": {},
   "cell_type": "markdown",
   "metadata": {},
   "source": [
    "Homework 4\n",
    "\n",
    "**1a. Determine the total number ($\\frac{\\#}{cm^3}$) of energy states in silicon between $E_c$ and $E_c + 2kT$ at $T = 300 K$ and $T = 400 K$.**\n",
    "\n",
    "Pierret 2.4.1: \n",
    "$$g_c(E)=\\frac{m^*_n \\sqrt{2m^*_n(E-E_c)}}{\\pi^2\\hbar^3}$$\n",
    "\n",
    "Pierret 2.3.1: \n",
    "- For Silicon, $m^*_n/m_0=1.18$\n",
    "- For GaAs, $m^*_n/m_0=0.066$"
   ]
  },
  {
   "cell_type": "code",
   "execution_count": 112,
   "metadata": {},
   "outputs": [],
   "source": [
    "# Imports and utility functions\n",
    "import sympy\n",
    "from sympy import nsolve, pi\n",
    "from sympy.abc import x\n",
    "from sympy.physics.units import hbar, nm, eV, electron_rest_mass, meter, kg, second, K, boltzmann_constant, cm\n",
    "from sympy.physics.units import convert_to\n",
    "from sympy import sin, cos, sqrt, sinh, cosh\n",
    "\n",
    "from sympy.plotting import plot\n",
    "from sympy import integrate\n",
    "\n",
    "from sympy.physics.units import Quantity\n",
    "\n",
    "def unit(expr):\n",
    "    try:\n",
    "        return expr.as_coeff_Mul()[1]\n",
    "    except:\n",
    "        return 1\n",
    "\n",
    "def convert_simplify(expr, units):\n",
    "    return convert_to(expr, units).simplify().evalf()\n",
    "    \n",
    "def remove_units(f, x, x_units, y_units):\n",
    "    f_ = convert_to(f(x * x_units), [meter, kg, second])\n",
    "    f_ = f_ / y_units\n",
    "    f_ = convert_to(f_, [meter, kg, second])\n",
    "    return f_\n",
    "\n",
    "def plot_with_units(f, start, end, y_units):\n",
    "    x_units = unit(start + end)\n",
    "    f_ = remove_units(f, x, x_units, y_units)\n",
    "    return plot(f_, (x, start/x_units, end/x_units), xlabel=str(x_units), ylabel=str(y_units), show=False)\n",
    "\n",
    "def solve_with_units(f, x_estimate, y):\n",
    "    x_units = unit(x_estimate)\n",
    "    y_units = unit(y)\n",
    "    f_ = remove_units(f, x, x_units, y_units)\n",
    "    return nsolve(f_ - y/y_units, x_estimate/x_units)"
   ]
  },
  {
   "cell_type": "code",
   "execution_count": 113,
   "metadata": {},
   "outputs": [],
   "source": [
    "def energy_state_density(E_above_e_c, eff_mass):\n",
    "    return eff_mass * sqrt(2*eff_mass*(E_above_e_c)) / (sympy.pi **2 * hbar ** 3)"
   ]
  },
  {
   "cell_type": "code",
   "execution_count": 114,
   "metadata": {},
   "outputs": [
    {
     "name": "stdout",
     "output_type": "stream",
     "text": [
      "T = 300K (1/cm^3): 6.84390250489197e+19\n",
      "T = 400K (1/cm^3): 1.05368772093518e+20\n"
     ]
    }
   ],
   "source": [
    "kt_2_300K_eV = convert_simplify(2 * boltzmann_constant * 300 * K / eV, 1)\n",
    "kt_2_400K_eV = convert_simplify(2 * boltzmann_constant * 400 * K / eV, 1)\n",
    "\n",
    "eff_mass_si = electron_rest_mass * 1.18\n",
    "\n",
    "energy_state_density_si_ = remove_units(lambda x: energy_state_density(x, eff_mass_si), x, eV, 1/(cm ** 3 * eV))\n",
    "\n",
    "energy_state_density_si_cum_ = integrate(energy_state_density_si_)\n",
    "\n",
    "\n",
    "print(\"T = 300K (1/cm^3):\", energy_state_density_si_cum_.evalf(subs={x: kt_2_300K_eV}))\n",
    "print(\"T = 400K (1/cm^3):\", energy_state_density_si_cum_.evalf(subs={x: kt_2_400K_eV}))\n",
    "\n"
   ]
  },
  {
   "attachments": {},
   "cell_type": "markdown",
   "metadata": {},
   "source": [
    "**1b. Do the same for GaAs**"
   ]
  },
  {
   "cell_type": "code",
   "execution_count": 115,
   "metadata": {},
   "outputs": [
    {
     "name": "stdout",
     "output_type": "stream",
     "text": [
      "T = 300K (1/cm^3): 9.05308726168268e+17\n",
      "T = 400K (1/cm^3): 1.39381396467458e+18\n"
     ]
    }
   ],
   "source": [
    "eff_mass_gaas = electron_rest_mass * 0.066\n",
    "\n",
    "energy_state_density_gaas_ = remove_units(lambda x: energy_state_density(x, eff_mass_gaas), x, eV, 1/(cm ** 3 * eV))\n",
    "\n",
    "energy_state_density_gaas_cum_ = integrate(energy_state_density_gaas_)\n",
    "\n",
    "\n",
    "print(\"T = 300K (1/cm^3):\", energy_state_density_gaas_cum_.evalf(subs={x: kt_2_300K_eV}))\n",
    "print(\"T = 400K (1/cm^3):\", energy_state_density_gaas_cum_.evalf(subs={x: kt_2_400K_eV}))"
   ]
  },
  {
   "attachments": {},
   "cell_type": "markdown",
   "metadata": {},
   "source": [
    "**2\\. The probability that a state at Ec + kT is occupied by an electron is equal to the\n",
    "probability that a state at Ev - kT is empty. Determine the position of the Fermi\n",
    "energy level as a function of Ec and Ev.**\n",
    "\n",
    "Given:\n",
    "$$f(E_c + kT) = 1 - f(E_v - kT)$$\n",
    "\n",
    "Pierret 2.4.2:  \n",
    "$$f(E)=\\frac{1}{1+e^{(E-E_f)/kT}}$$\n",
    "\n",
    "Thus,\n",
    "$$\\frac{1}{1+e^{(E_c + kT-E_f)/kT}} = 1 - \\frac{1}{1+e^{(E_v - kT-E_f)/kT}}$$\n",
    "\n",
    "$$\\frac{1}{1+e^{(E_c + kT-E_f)/kT}} = \\frac{e^{(E_v - kT-E_f)/kT}}{1+e^{(E_v - kT-E_f)/kT}}$$\n",
    "$$1+e^{(E_v - kT-E_f)/kT} = (1+e^{(E_c + kT-E_f)/kT} ) e^{(E_v - kT-E_f)/kT}$$\n",
    "\n",
    "$$1 = (e^{(E_c + kT-E_f)/kT} ) e^{(E_v - kT-E_f)/kT}$$\n",
    "$$1 = e^{(E_c + kT-E_f  +E_v - kT-E_f )/kT} $$\n",
    "\n",
    "$$2E_f = E_c + E_v$$\n",
    "$$E_f = \\frac{E_c + E_v}{2}$$"
   ]
  }
 ],
 "metadata": {
  "kernelspec": {
   "display_name": "Python 3",
   "language": "python",
   "name": "python3"
  },
  "language_info": {
   "name": "python",
   "version": "3.10.12"
  },
  "orig_nbformat": 4
 },
 "nbformat": 4,
 "nbformat_minor": 2
}
